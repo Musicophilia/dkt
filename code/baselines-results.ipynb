{
 "cells": [
  {
   "cell_type": "markdown",
   "metadata": {},
   "source": [
    "# Baselines\n",
    "\n",
    "Notebook to run baselines and document results. Implementation of baselines can be found in baselines.py."
   ]
  },
  {
   "cell_type": "code",
   "execution_count": 23,
   "metadata": {
    "collapsed": false
   },
   "outputs": [
    {
     "name": "stdout",
     "output_type": "stream",
     "text": [
      "The autoreload extension is already loaded. To reload it, use:\n",
      "  %reload_ext autoreload\n"
     ]
    }
   ],
   "source": [
    "%load_ext autoreload\n",
    "%autoreload 2\n",
    "%reload_ext autoreload\n",
    "%matplotlib inline\n",
    "\n",
    "from baselines import *\n",
    "\n",
    "import numpy as np\n",
    "from sklearn.model_selection import train_test_split\n",
    "from sklearn.metrics import accuracy_score\n",
    "import matplotlib as mpl\n",
    "import matplotlib.pyplot as plt\n",
    "import seaborn as sns"
   ]
  },
  {
   "cell_type": "code",
   "execution_count": 9,
   "metadata": {
    "collapsed": true
   },
   "outputs": [],
   "source": [
    "minlens = [1,2,3,4,5]"
   ]
  },
  {
   "cell_type": "code",
   "execution_count": 8,
   "metadata": {
    "collapsed": false
   },
   "outputs": [
    {
     "name": "stdout",
     "output_type": "stream",
     "text": [
      "Loading data...\n",
      "Data loaded.\n",
      "Baseline logistic regression on path scores:\n",
      "\n",
      "    Only including trajectories with minimum length: 1\n",
      "    Number of samples in dataset: 190703\n",
      "    Test size: 0.1\n",
      "    Train acc: 0.877534492402\t Test acc: 0.882072256305\n",
      "\n",
      "\n",
      "Loading data...\n",
      "Data loaded.\n",
      "Baseline logistic regression on path scores:\n",
      "\n",
      "    Only including trajectories with minimum length: 2\n",
      "    Number of samples in dataset: 94960\n",
      "    Test size: 0.1\n",
      "    Train acc: 0.795598146588\t Test acc: 0.797809604044\n",
      "\n",
      "\n",
      "Loading data...\n",
      "Data loaded.\n",
      "Baseline logistic regression on path scores:\n",
      "\n",
      "    Only including trajectories with minimum length: 3\n",
      "    Number of samples in dataset: 63662\n",
      "    Test size: 0.1\n",
      "    Train acc: 0.744113797015\t Test acc: 0.745405999686\n",
      "\n",
      "\n",
      "Loading data...\n",
      "Data loaded.\n",
      "Baseline logistic regression on path scores:\n",
      "\n",
      "    Only including trajectories with minimum length: 4\n",
      "    Number of samples in dataset: 47639\n",
      "    Test size: 0.1\n",
      "    Train acc: 0.712839650146\t Test acc: 0.698782535684\n",
      "\n",
      "\n",
      "Loading data...\n",
      "Data loaded.\n",
      "Baseline logistic regression on path scores:\n",
      "\n",
      "    Only including trajectories with minimum length: 5\n",
      "    Number of samples in dataset: 37668\n",
      "    Test size: 0.1\n",
      "    Train acc: 0.687737824843\t Test acc: 0.685160605256\n",
      "\n",
      "\n"
     ]
    }
   ],
   "source": [
    "hoc_num = 18\n",
    "train_accs, test_accs = [], []\n",
    "minlens = [1,2,3,4,5]\n",
    "for minlen in minlens: \n",
    "    train_acc, test_acc = baseline_pathscore(hoc_num, minlen=minlen)\n",
    "    train_accs.append(train_acc)\n",
    "    test_accs.append(test_acc)"
   ]
  },
  {
   "cell_type": "code",
   "execution_count": 17,
   "metadata": {
    "collapsed": false
   },
   "outputs": [
    {
     "name": "stdout",
     "output_type": "stream",
     "text": [
      "(5, 2)\n"
     ]
    }
   ],
   "source": [
    "minlens, train_accs, test_accs = np.array(minlens).reshape(-1,1), np.array(train_accs).reshape(-1,1), np.array(test_accs).reshape(-1,1)\n"
   ]
  },
  {
   "cell_type": "code",
   "execution_count": 33,
   "metadata": {
    "collapsed": false
   },
   "outputs": [
    {
     "data": {
      "text/plain": [
       "[<matplotlib.lines.Line2D at 0x11d9bbe90>,\n",
       " <matplotlib.lines.Line2D at 0x11eef7fd0>]"
      ]
     },
     "execution_count": 33,
     "metadata": {},
     "output_type": "execute_result"
    },
    {
     "data": {
      "image/png": "[encoded data removed]",
      "text/plain": [
       "<matplotlib.figure.Figure at 0x11daf8f90>"
      ]
     },
     "metadata": {},
     "output_type": "display_data"
    }
   ],
   "source": [
    "plt.plot(minlens, train_accs, 'b', minlens,test_accs, 'r')"
   ]
  }
 ],
 "metadata": {
  "kernelspec": {
   "display_name": "Python 2",
   "language": "python",
   "name": "python2"
  },
  "language_info": {
   "codemirror_mode": {
    "name": "ipython",
    "version": 2
   },
   "file_extension": ".py",
   "mimetype": "text/x-python",
   "name": "python",
   "nbconvert_exporter": "python",
   "pygments_lexer": "ipython2",
   "version": "2.7.12"
  }
 },
 "nbformat": 4,
 "nbformat_minor": 1
}
