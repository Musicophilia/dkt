{
 "cells": [
  {
   "cell_type": "code",
   "execution_count": 40,
   "metadata": {
    "collapsed": false
   },
   "outputs": [
    {
     "name": "stdout",
     "output_type": "stream",
     "text": [
      "The autoreload extension is already loaded. To reload it, use:\n",
      "  %reload_ext autoreload\n"
     ]
    }
   ],
   "source": [
    "%load_ext autoreload\n",
    "%autoreload 2\n",
    "%reload_ext autoreload\n",
    "from experiments import *\n",
    "import numpy as np\n",
    "from sklearn.model_selection import train_test_split\n",
    "from tflearn.data_utils import to_categorical, pad_sequences\n",
    "from experiments import *\n",
    "from sklearn.metrics import accuracy_score\n",
    "import matplotlib as mpl\n",
    "import matplotlib.pyplot as plt\n",
    "from matplotlib import style\n",
    "style.use('seaborn-whitegrid')\n",
    "%matplotlib inline"
   ]
  },
  {
   "cell_type": "code",
   "execution_count": 16,
   "metadata": {
    "collapsed": false
   },
   "outputs": [
    {
     "name": "stderr",
     "output_type": "stream",
     "text": [
      "WARNING:tensorflow:tf.variable_op_scope(values, name, default_name) is deprecated, use tf.variable_scope(name, default_name, values)\n"
     ]
    },
    {
     "name": "stdout",
     "output_type": "stream",
     "text": [
      "Loading model...\n"
     ]
    },
    {
     "name": "stderr",
     "output_type": "stream",
     "text": [
      "WARNING:tensorflow:tf.variable_op_scope(values, name, default_name) is deprecated, use tf.variable_scope(name, default_name, values)\n",
      "WARNING:tensorflow:tf.variable_op_scope(values, name, default_name) is deprecated, use tf.variable_scope(name, default_name, values)\n"
     ]
    },
    {
     "name": "stdout",
     "output_type": "stream",
     "text": [
      "../tensorboard_logs/predict_next_prob_binary_two_layer_minlen_2/\n",
      "../checkpoints/predict_next_prob_binary_two_layer_minlen_2/\n",
      "../best_checkpoints/predict_next_prob_binary_two_layer_minlen_2/\n",
      "../checkpoints/predict_next_prob_binary_two_layer_minlen_2/-9616\n",
      "Checkpoint loaded.\n",
      "Model loaded.\n",
      "Loading data...\n",
      "Data loaded.\n"
     ]
    },
    {
     "name": "stderr",
     "output_type": "stream",
     "text": [
      "WARNING:tensorflow:tf.variable_op_scope(values, name, default_name) is deprecated, use tf.variable_scope(name, default_name, values)\n"
     ]
    },
    {
     "name": "stdout",
     "output_type": "stream",
     "text": [
      "Train acc: 0.935565180346\t Test acc: 0.938019169329\n",
      "Loading model...\n"
     ]
    },
    {
     "name": "stderr",
     "output_type": "stream",
     "text": [
      "WARNING:tensorflow:tf.variable_op_scope(values, name, default_name) is deprecated, use tf.variable_scope(name, default_name, values)\n",
      "WARNING:tensorflow:tf.variable_op_scope(values, name, default_name) is deprecated, use tf.variable_scope(name, default_name, values)\n"
     ]
    },
    {
     "name": "stdout",
     "output_type": "stream",
     "text": [
      "../tensorboard_logs/predict_next_prob_binary_two_layer_minlen_2/\n",
      "../checkpoints/predict_next_prob_binary_two_layer_minlen_2/\n",
      "../best_checkpoints/predict_next_prob_binary_two_layer_minlen_2/\n",
      "../checkpoints/predict_next_prob_binary_two_layer_minlen_2/-9616\n",
      "Checkpoint loaded.\n",
      "Model loaded.\n",
      "Loading data...\n",
      "Data loaded.\n"
     ]
    },
    {
     "name": "stderr",
     "output_type": "stream",
     "text": [
      "WARNING:tensorflow:tf.variable_op_scope(values, name, default_name) is deprecated, use tf.variable_scope(name, default_name, values)\n"
     ]
    },
    {
     "name": "stdout",
     "output_type": "stream",
     "text": [
      "Train acc: 0.892510402219\t Test acc: 0.893325015596\n",
      "Loading model...\n"
     ]
    },
    {
     "name": "stderr",
     "output_type": "stream",
     "text": [
      "WARNING:tensorflow:tf.variable_op_scope(values, name, default_name) is deprecated, use tf.variable_scope(name, default_name, values)\n",
      "WARNING:tensorflow:tf.variable_op_scope(values, name, default_name) is deprecated, use tf.variable_scope(name, default_name, values)\n"
     ]
    },
    {
     "name": "stdout",
     "output_type": "stream",
     "text": [
      "../tensorboard_logs/predict_next_prob_binary_two_layer_minlen_2/\n",
      "../checkpoints/predict_next_prob_binary_two_layer_minlen_2/\n",
      "../best_checkpoints/predict_next_prob_binary_two_layer_minlen_2/\n",
      "../checkpoints/predict_next_prob_binary_two_layer_minlen_2/-9616\n",
      "Checkpoint loaded.\n",
      "Model loaded.\n",
      "Loading data...\n",
      "Data loaded.\n"
     ]
    },
    {
     "name": "stderr",
     "output_type": "stream",
     "text": [
      "WARNING:tensorflow:tf.variable_op_scope(values, name, default_name) is deprecated, use tf.variable_scope(name, default_name, values)\n"
     ]
    },
    {
     "name": "stdout",
     "output_type": "stream",
     "text": [
      "Train acc: 0.868494372005\t Test acc: 0.865731462926\n",
      "Loading model...\n"
     ]
    },
    {
     "name": "stderr",
     "output_type": "stream",
     "text": [
      "WARNING:tensorflow:tf.variable_op_scope(values, name, default_name) is deprecated, use tf.variable_scope(name, default_name, values)\n",
      "WARNING:tensorflow:tf.variable_op_scope(values, name, default_name) is deprecated, use tf.variable_scope(name, default_name, values)\n"
     ]
    },
    {
     "name": "stdout",
     "output_type": "stream",
     "text": [
      "../tensorboard_logs/predict_next_prob_binary_two_layer_minlen_2/\n",
      "../checkpoints/predict_next_prob_binary_two_layer_minlen_2/\n",
      "../best_checkpoints/predict_next_prob_binary_two_layer_minlen_2/\n",
      "../checkpoints/predict_next_prob_binary_two_layer_minlen_2/-9616\n",
      "Checkpoint loaded.\n",
      "Model loaded.\n",
      "Loading data...\n",
      "Data loaded.\n"
     ]
    },
    {
     "name": "stderr",
     "output_type": "stream",
     "text": [
      "WARNING:tensorflow:tf.variable_op_scope(values, name, default_name) is deprecated, use tf.variable_scope(name, default_name, values)\n"
     ]
    },
    {
     "name": "stdout",
     "output_type": "stream",
     "text": [
      "Train acc: 0.839521711768\t Test acc: 0.841584158416\n",
      "Loading model...\n"
     ]
    },
    {
     "name": "stderr",
     "output_type": "stream",
     "text": [
      "WARNING:tensorflow:tf.variable_op_scope(values, name, default_name) is deprecated, use tf.variable_scope(name, default_name, values)\n",
      "WARNING:tensorflow:tf.variable_op_scope(values, name, default_name) is deprecated, use tf.variable_scope(name, default_name, values)\n"
     ]
    },
    {
     "name": "stdout",
     "output_type": "stream",
     "text": [
      "../tensorboard_logs/predict_next_prob_binary_two_layer_minlen_2/\n",
      "../checkpoints/predict_next_prob_binary_two_layer_minlen_2/\n",
      "../best_checkpoints/predict_next_prob_binary_two_layer_minlen_2/\n",
      "../checkpoints/predict_next_prob_binary_two_layer_minlen_2/-9616\n",
      "Checkpoint loaded.\n",
      "Model loaded.\n",
      "Loading data...\n",
      "Data loaded.\n"
     ]
    },
    {
     "name": "stderr",
     "output_type": "stream",
     "text": [
      "WARNING:tensorflow:tf.variable_op_scope(values, name, default_name) is deprecated, use tf.variable_scope(name, default_name, values)\n"
     ]
    },
    {
     "name": "stdout",
     "output_type": "stream",
     "text": [
      "Train acc: 0.833054042731\t Test acc: 0.828625235405\n",
      "Loading model...\n"
     ]
    },
    {
     "name": "stderr",
     "output_type": "stream",
     "text": [
      "WARNING:tensorflow:tf.variable_op_scope(values, name, default_name) is deprecated, use tf.variable_scope(name, default_name, values)\n",
      "WARNING:tensorflow:tf.variable_op_scope(values, name, default_name) is deprecated, use tf.variable_scope(name, default_name, values)\n"
     ]
    },
    {
     "name": "stdout",
     "output_type": "stream",
     "text": [
      "../tensorboard_logs/predict_next_prob_binary_two_layer_minlen_2/\n",
      "../checkpoints/predict_next_prob_binary_two_layer_minlen_2/\n",
      "../best_checkpoints/predict_next_prob_binary_two_layer_minlen_2/\n",
      "../checkpoints/predict_next_prob_binary_two_layer_minlen_2/-9616\n",
      "Checkpoint loaded.\n",
      "Model loaded.\n",
      "Loading data...\n",
      "Data loaded.\n"
     ]
    },
    {
     "name": "stderr",
     "output_type": "stream",
     "text": [
      "WARNING:tensorflow:tf.variable_op_scope(values, name, default_name) is deprecated, use tf.variable_scope(name, default_name, values)\n"
     ]
    },
    {
     "name": "stdout",
     "output_type": "stream",
     "text": [
      "Train acc: 0.817989417989\t Test acc: 0.783847980998\n",
      "Loading model...\n"
     ]
    },
    {
     "name": "stderr",
     "output_type": "stream",
     "text": [
      "WARNING:tensorflow:tf.variable_op_scope(values, name, default_name) is deprecated, use tf.variable_scope(name, default_name, values)\n",
      "WARNING:tensorflow:tf.variable_op_scope(values, name, default_name) is deprecated, use tf.variable_scope(name, default_name, values)\n"
     ]
    },
    {
     "name": "stdout",
     "output_type": "stream",
     "text": [
      "../tensorboard_logs/predict_next_prob_binary_two_layer_minlen_2/\n",
      "../checkpoints/predict_next_prob_binary_two_layer_minlen_2/\n",
      "../best_checkpoints/predict_next_prob_binary_two_layer_minlen_2/\n",
      "../checkpoints/predict_next_prob_binary_two_layer_minlen_2/-9616\n",
      "Checkpoint loaded.\n",
      "Model loaded.\n",
      "Loading data...\n",
      "Data loaded.\n"
     ]
    },
    {
     "name": "stderr",
     "output_type": "stream",
     "text": [
      "WARNING:tensorflow:tf.variable_op_scope(values, name, default_name) is deprecated, use tf.variable_scope(name, default_name, values)\n"
     ]
    },
    {
     "name": "stdout",
     "output_type": "stream",
     "text": [
      "Train acc: 0.79972518035\t Test acc: 0.780864197531\n",
      "Loading model...\n"
     ]
    },
    {
     "name": "stderr",
     "output_type": "stream",
     "text": [
      "WARNING:tensorflow:tf.variable_op_scope(values, name, default_name) is deprecated, use tf.variable_scope(name, default_name, values)\n",
      "WARNING:tensorflow:tf.variable_op_scope(values, name, default_name) is deprecated, use tf.variable_scope(name, default_name, values)\n"
     ]
    },
    {
     "name": "stdout",
     "output_type": "stream",
     "text": [
      "../tensorboard_logs/predict_next_prob_binary_two_layer_minlen_2/\n",
      "../checkpoints/predict_next_prob_binary_two_layer_minlen_2/\n",
      "../best_checkpoints/predict_next_prob_binary_two_layer_minlen_2/\n",
      "../checkpoints/predict_next_prob_binary_two_layer_minlen_2/-9616\n",
      "Checkpoint loaded.\n",
      "Model loaded.\n",
      "Loading data...\n",
      "Data loaded.\n"
     ]
    },
    {
     "name": "stderr",
     "output_type": "stream",
     "text": [
      "WARNING:tensorflow:tf.variable_op_scope(values, name, default_name) is deprecated, use tf.variable_scope(name, default_name, values)\n"
     ]
    },
    {
     "name": "stdout",
     "output_type": "stream",
     "text": [
      "Train acc: 0.778842149105\t Test acc: 0.816479400749\n",
      "Loading model...\n"
     ]
    },
    {
     "name": "stderr",
     "output_type": "stream",
     "text": [
      "WARNING:tensorflow:tf.variable_op_scope(values, name, default_name) is deprecated, use tf.variable_scope(name, default_name, values)\n",
      "WARNING:tensorflow:tf.variable_op_scope(values, name, default_name) is deprecated, use tf.variable_scope(name, default_name, values)\n"
     ]
    },
    {
     "name": "stdout",
     "output_type": "stream",
     "text": [
      "../tensorboard_logs/predict_next_prob_binary_two_layer_minlen_2/\n",
      "../checkpoints/predict_next_prob_binary_two_layer_minlen_2/\n",
      "../best_checkpoints/predict_next_prob_binary_two_layer_minlen_2/\n",
      "../checkpoints/predict_next_prob_binary_two_layer_minlen_2/-9616\n",
      "Checkpoint loaded.\n",
      "Model loaded.\n",
      "Loading data...\n",
      "Data loaded.\n",
      "Train acc: 0.788865546218\t Test acc: 0.825471698113\n"
     ]
    }
   ],
   "source": [
    "hoc_num = 18\n",
    "minlen = 2\n",
    "traj_lens = range(2, 11)\n",
    "train_accs, test_accs, student_ids_list = [], [], []\n",
    "for traj_len in traj_lens:\n",
    "    model_id = \"predict_next_prob_binary_two_layer_minlen_{}\".format(minlen)\n",
    "    train_acc, test_acc, studen_ids = get_results_saved_model_traj_len(hoc_num, model_id, traj_len)\n",
    "    train_accs.append(train_acc)\n",
    "    test_accs.append(test_acc)\n",
    "    student_ids_list.append(studen_ids)"
   ]
  },
  {
   "cell_type": "code",
   "execution_count": 26,
   "metadata": {
    "collapsed": false,
    "scrolled": true
   },
   "outputs": [
    {
     "name": "stdout",
     "output_type": "stream",
     "text": [
      "[0.9355651803464925, 0.89251040221914013, 0.86849437200490365, 0.83952171176840784, 0.83305404273146211, 0.81798941798941804, 0.79972518035039508, 0.77884214910453975, 0.78886554621848737]\n",
      "[0.93801916932907348, 0.89332501559575794, 0.86573146292585168, 0.84158415841584155, 0.82862523540489641, 0.78384798099762465, 0.78086419753086422, 0.81647940074906367, 0.82547169811320753]\n"
     ]
    }
   ],
   "source": [
    "print train_accs\n",
    "print test_accs"
   ]
  },
  {
   "cell_type": "code",
   "execution_count": 31,
   "metadata": {
    "collapsed": false
   },
   "outputs": [
    {
     "data": {
      "image/png": "[encoded data removed]",
      "text/plain": [
       "<matplotlib.figure.Figure at 0x144ac5090>"
      ]
     },
     "metadata": {},
     "output_type": "display_data"
    }
   ],
   "source": [
    "plt.plot(traj_lens, train_accs, 'ro', label=\"Train Accuracy\")\n",
    "plt.plot(traj_lens, test_accs, 'b^', label=\"Test Accuracy\")\n",
    "plt.legend(loc=\"upper right\")\n",
    "plt.xlabel('Minimum Trajectory Length')\n",
    "plt.ylabel('Accuracy')`\n",
    "plt.axis([0, 11, 0.7, 1.0])\n",
    "plt.show()"
   ]
  },
  {
   "cell_type": "code",
   "execution_count": 30,
   "metadata": {
    "collapsed": false,
    "scrolled": true
   },
   "outputs": [
    {
     "name": "stderr",
     "output_type": "stream",
     "text": [
      "WARNING:tensorflow:tf.variable_op_scope(values, name, default_name) is deprecated, use tf.variable_scope(name, default_name, values)\n"
     ]
    },
    {
     "name": "stdout",
     "output_type": "stream",
     "text": [
      "Loading model...\n"
     ]
    },
    {
     "name": "stderr",
     "output_type": "stream",
     "text": [
      "WARNING:tensorflow:tf.variable_op_scope(values, name, default_name) is deprecated, use tf.variable_scope(name, default_name, values)\n",
      "WARNING:tensorflow:tf.variable_op_scope(values, name, default_name) is deprecated, use tf.variable_scope(name, default_name, values)\n"
     ]
    },
    {
     "name": "stdout",
     "output_type": "stream",
     "text": [
      "../tensorboard_logs/predict_next_prob_binary_two_layer_traj_len_2/\n",
      "../checkpoints/predict_next_prob_binary_two_layer_traj_len_2/\n",
      "../best_checkpoints/predict_next_prob_binary_two_layer_traj_len_2/\n",
      "../checkpoints/predict_next_prob_binary_two_layer_traj_len_2/-3176\n",
      "Checkpoint loaded.\n",
      "Model loaded.\n",
      "Loading data...\n",
      "Data loaded.\n"
     ]
    },
    {
     "name": "stderr",
     "output_type": "stream",
     "text": [
      "WARNING:tensorflow:tf.variable_op_scope(values, name, default_name) is deprecated, use tf.variable_scope(name, default_name, values)\n"
     ]
    },
    {
     "name": "stdout",
     "output_type": "stream",
     "text": [
      "Train acc: 0.940748366941\t Test acc: 0.941853035144\n",
      "Loading model...\n"
     ]
    },
    {
     "name": "stderr",
     "output_type": "stream",
     "text": [
      "WARNING:tensorflow:tf.variable_op_scope(values, name, default_name) is deprecated, use tf.variable_scope(name, default_name, values)\n",
      "WARNING:tensorflow:tf.variable_op_scope(values, name, default_name) is deprecated, use tf.variable_scope(name, default_name, values)\n"
     ]
    },
    {
     "name": "stdout",
     "output_type": "stream",
     "text": [
      "../tensorboard_logs/predict_next_prob_binary_two_layer_traj_len_3/\n",
      "../checkpoints/predict_next_prob_binary_two_layer_traj_len_3/\n",
      "../best_checkpoints/predict_next_prob_binary_two_layer_traj_len_3/\n",
      "../checkpoints/predict_next_prob_binary_two_layer_traj_len_3/-1624\n",
      "Checkpoint loaded.\n",
      "Model loaded.\n",
      "Loading data...\n",
      "Data loaded.\n"
     ]
    },
    {
     "name": "stderr",
     "output_type": "stream",
     "text": [
      "WARNING:tensorflow:tf.variable_op_scope(values, name, default_name) is deprecated, use tf.variable_scope(name, default_name, values)\n"
     ]
    },
    {
     "name": "stdout",
     "output_type": "stream",
     "text": [
      "Train acc: 0.90721220527\t Test acc: 0.900187149095\n",
      "Loading model...\n"
     ]
    },
    {
     "name": "stderr",
     "output_type": "stream",
     "text": [
      "WARNING:tensorflow:tf.variable_op_scope(values, name, default_name) is deprecated, use tf.variable_scope(name, default_name, values)\n",
      "WARNING:tensorflow:tf.variable_op_scope(values, name, default_name) is deprecated, use tf.variable_scope(name, default_name, values)\n"
     ]
    },
    {
     "name": "stdout",
     "output_type": "stream",
     "text": [
      "../tensorboard_logs/predict_next_prob_binary_two_layer_traj_len_4/\n",
      "../checkpoints/predict_next_prob_binary_two_layer_traj_len_4/\n",
      "../best_checkpoints/predict_next_prob_binary_two_layer_traj_len_4/\n",
      "../checkpoints/predict_next_prob_binary_two_layer_traj_len_4/-1016\n",
      "Checkpoint loaded.\n",
      "Model loaded.\n",
      "Loading data...\n",
      "Data loaded.\n"
     ]
    },
    {
     "name": "stderr",
     "output_type": "stream",
     "text": [
      "WARNING:tensorflow:tf.variable_op_scope(values, name, default_name) is deprecated, use tf.variable_scope(name, default_name, values)\n"
     ]
    },
    {
     "name": "stdout",
     "output_type": "stream",
     "text": [
      "Train acc: 0.891006352391\t Test acc: 0.884769539078\n",
      "Loading model...\n"
     ]
    },
    {
     "name": "stderr",
     "output_type": "stream",
     "text": [
      "WARNING:tensorflow:tf.variable_op_scope(values, name, default_name) is deprecated, use tf.variable_scope(name, default_name, values)\n",
      "WARNING:tensorflow:tf.variable_op_scope(values, name, default_name) is deprecated, use tf.variable_scope(name, default_name, values)\n"
     ]
    },
    {
     "name": "stdout",
     "output_type": "stream",
     "text": [
      "../tensorboard_logs/predict_next_prob_binary_two_layer_traj_len_5/\n",
      "../checkpoints/predict_next_prob_binary_two_layer_traj_len_5/\n",
      "../best_checkpoints/predict_next_prob_binary_two_layer_traj_len_5/\n",
      "../checkpoints/predict_next_prob_binary_two_layer_traj_len_5/-720\n",
      "Checkpoint loaded.\n",
      "Model loaded.\n",
      "Loading data...\n",
      "Data loaded.\n"
     ]
    },
    {
     "name": "stderr",
     "output_type": "stream",
     "text": [
      "WARNING:tensorflow:tf.variable_op_scope(values, name, default_name) is deprecated, use tf.variable_scope(name, default_name, values)\n"
     ]
    },
    {
     "name": "stdout",
     "output_type": "stream",
     "text": [
      "Train acc: 0.87208936438\t Test acc: 0.8585572843\n",
      "Loading model...\n"
     ]
    },
    {
     "name": "stderr",
     "output_type": "stream",
     "text": [
      "WARNING:tensorflow:tf.variable_op_scope(values, name, default_name) is deprecated, use tf.variable_scope(name, default_name, values)\n",
      "WARNING:tensorflow:tf.variable_op_scope(values, name, default_name) is deprecated, use tf.variable_scope(name, default_name, values)\n"
     ]
    },
    {
     "name": "stdout",
     "output_type": "stream",
     "text": [
      "../tensorboard_logs/predict_next_prob_binary_two_layer_traj_len_6/\n",
      "../checkpoints/predict_next_prob_binary_two_layer_traj_len_6/\n",
      "../best_checkpoints/predict_next_prob_binary_two_layer_traj_len_6/\n",
      "../checkpoints/predict_next_prob_binary_two_layer_traj_len_6/-544\n",
      "Checkpoint loaded.\n",
      "Model loaded.\n",
      "Loading data...\n",
      "Data loaded.\n"
     ]
    },
    {
     "name": "stderr",
     "output_type": "stream",
     "text": [
      "WARNING:tensorflow:tf.variable_op_scope(values, name, default_name) is deprecated, use tf.variable_scope(name, default_name, values)\n"
     ]
    },
    {
     "name": "stdout",
     "output_type": "stream",
     "text": [
      "Train acc: 0.865312107248\t Test acc: 0.856873822976\n",
      "Loading model...\n"
     ]
    },
    {
     "name": "stderr",
     "output_type": "stream",
     "text": [
      "WARNING:tensorflow:tf.variable_op_scope(values, name, default_name) is deprecated, use tf.variable_scope(name, default_name, values)\n",
      "WARNING:tensorflow:tf.variable_op_scope(values, name, default_name) is deprecated, use tf.variable_scope(name, default_name, values)\n"
     ]
    },
    {
     "name": "stdout",
     "output_type": "stream",
     "text": [
      "../tensorboard_logs/predict_next_prob_binary_two_layer_traj_len_7/\n",
      "../checkpoints/predict_next_prob_binary_two_layer_traj_len_7/\n",
      "../best_checkpoints/predict_next_prob_binary_two_layer_traj_len_7/\n",
      "../checkpoints/predict_next_prob_binary_two_layer_traj_len_7/-432\n",
      "Checkpoint loaded.\n",
      "Model loaded.\n",
      "Loading data...\n",
      "Data loaded.\n"
     ]
    },
    {
     "name": "stderr",
     "output_type": "stream",
     "text": [
      "WARNING:tensorflow:tf.variable_op_scope(values, name, default_name) is deprecated, use tf.variable_scope(name, default_name, values)\n"
     ]
    },
    {
     "name": "stdout",
     "output_type": "stream",
     "text": [
      "Train acc: 0.860582010582\t Test acc: 0.824228028504\n",
      "Loading model...\n"
     ]
    },
    {
     "name": "stderr",
     "output_type": "stream",
     "text": [
      "WARNING:tensorflow:tf.variable_op_scope(values, name, default_name) is deprecated, use tf.variable_scope(name, default_name, values)\n",
      "WARNING:tensorflow:tf.variable_op_scope(values, name, default_name) is deprecated, use tf.variable_scope(name, default_name, values)\n"
     ]
    },
    {
     "name": "stdout",
     "output_type": "stream",
     "text": [
      "../tensorboard_logs/predict_next_prob_binary_two_layer_traj_len_8/\n",
      "../checkpoints/predict_next_prob_binary_two_layer_traj_len_8/\n",
      "../best_checkpoints/predict_next_prob_binary_two_layer_traj_len_8/\n",
      "../checkpoints/predict_next_prob_binary_two_layer_traj_len_8/-328\n",
      "Checkpoint loaded.\n",
      "Model loaded.\n",
      "Loading data...\n",
      "Data loaded.\n"
     ]
    },
    {
     "name": "stderr",
     "output_type": "stream",
     "text": [
      "WARNING:tensorflow:tf.variable_op_scope(values, name, default_name) is deprecated, use tf.variable_scope(name, default_name, values)\n"
     ]
    },
    {
     "name": "stdout",
     "output_type": "stream",
     "text": [
      "Train acc: 0.839230504981\t Test acc: 0.802469135802\n",
      "Loading model...\n"
     ]
    },
    {
     "name": "stderr",
     "output_type": "stream",
     "text": [
      "WARNING:tensorflow:tf.variable_op_scope(values, name, default_name) is deprecated, use tf.variable_scope(name, default_name, values)\n",
      "WARNING:tensorflow:tf.variable_op_scope(values, name, default_name) is deprecated, use tf.variable_scope(name, default_name, values)\n"
     ]
    },
    {
     "name": "stdout",
     "output_type": "stream",
     "text": [
      "../tensorboard_logs/predict_next_prob_binary_two_layer_traj_len_9/\n",
      "../checkpoints/predict_next_prob_binary_two_layer_traj_len_9/\n",
      "../best_checkpoints/predict_next_prob_binary_two_layer_traj_len_9/\n",
      "../checkpoints/predict_next_prob_binary_two_layer_traj_len_9/-272\n",
      "Checkpoint loaded.\n",
      "Model loaded.\n",
      "Loading data...\n",
      "Data loaded.\n"
     ]
    },
    {
     "name": "stderr",
     "output_type": "stream",
     "text": [
      "WARNING:tensorflow:tf.variable_op_scope(values, name, default_name) is deprecated, use tf.variable_scope(name, default_name, values)\n"
     ]
    },
    {
     "name": "stdout",
     "output_type": "stream",
     "text": [
      "Train acc: 0.820074968763\t Test acc: 0.812734082397\n",
      "Loading model...\n"
     ]
    },
    {
     "name": "stderr",
     "output_type": "stream",
     "text": [
      "WARNING:tensorflow:tf.variable_op_scope(values, name, default_name) is deprecated, use tf.variable_scope(name, default_name, values)\n",
      "WARNING:tensorflow:tf.variable_op_scope(values, name, default_name) is deprecated, use tf.variable_scope(name, default_name, values)\n"
     ]
    },
    {
     "name": "stdout",
     "output_type": "stream",
     "text": [
      "../tensorboard_logs/predict_next_prob_binary_two_layer_traj_len_10/\n",
      "../checkpoints/predict_next_prob_binary_two_layer_traj_len_10/\n",
      "../best_checkpoints/predict_next_prob_binary_two_layer_traj_len_10/\n",
      "../checkpoints/predict_next_prob_binary_two_layer_traj_len_10/-216\n",
      "Checkpoint loaded.\n",
      "Model loaded.\n",
      "Loading data...\n",
      "Data loaded.\n",
      "Train acc: 0.830882352941\t Test acc: 0.844339622642\n"
     ]
    }
   ],
   "source": [
    "hoc_num = 18\n",
    "traj_lens = range(2, 11)\n",
    "train_accs, test_accs, student_ids_list = [], [], []\n",
    "for traj_len in traj_lens:\n",
    "    model_id = \"predict_next_prob_binary_two_layer_traj_len_{}\".format(traj_len)\n",
    "    train_acc, test_acc, studen_ids = get_results_saved_model_traj_len(hoc_num, model_id, traj_len)\n",
    "    train_accs.append(train_acc)\n",
    "    test_accs.append(test_acc)\n",
    "    student_ids_list.append(studen_ids)"
   ]
  },
  {
   "cell_type": "code",
   "execution_count": 46,
   "metadata": {
    "collapsed": true
   },
   "outputs": [],
   "source": [
    "# results copied over from experiments_notebook_train_models_for_each_traj_len.ipynb\n",
    "train_accs = [0.94074836694120989, 0.90721220527045765, 0.89100635239050485, 0.87208936438011331, 0.86531210724759111, 0.86058201058201056, 0.83923050498110618, 0.82007496876301544, 0.83088235294117652]\n",
    "test_accs = [0.94185303514376995, 0.90018714909544606, 0.88476953907815636, 0.85855728429985856, 0.85687382297551784, 0.82422802850356292, 0.80246913580246915, 0.81273408239700373, 0.84433962264150941]"
   ]
  },
  {
   "cell_type": "code",
   "execution_count": 49,
   "metadata": {
    "collapsed": false
   },
   "outputs": [
    {
     "data": {
      "image/png": "[encoded data removed]",
      "text/plain": [
       "<matplotlib.figure.Figure at 0x148a31850>"
      ]
     },
     "metadata": {},
     "output_type": "display_data"
    }
   ],
   "source": [
    "plt.plot(traj_lens, train_accs, '-m*', label=\"Train Accuracy\")\n",
    "plt.plot(traj_lens, test_accs, '-c^', label=\"Test Accuracy\")\n",
    "plt.legend(loc=\"upper right\")\n",
    "plt.xlabel('Trajectory Length')\n",
    "plt.ylabel('Accuracy')\n",
    "plt.xticks(range(2,11))\n",
    "plt.axis([1, 11, 0.7, 1.0])\n",
    "plt.show()"
   ]
  },
  {
   "cell_type": "code",
   "execution_count": 50,
   "metadata": {
    "collapsed": false
   },
   "outputs": [
    {
     "data": {
      "image/png": "[encoded data removed]",
      "text/plain": [
       "<matplotlib.figure.Figure at 0x14ad7cb10>"
      ]
     },
     "metadata": {},
     "output_type": "display_data"
    }
   ],
   "source": [
    "# baseline results copied over from baselines-results.ipynb\n",
    "baseline_test_accs = [0.95876762402088767, 0.90118210862619819, 0.83693075483468493, 0.81653306613226451, 0.7882602545968882, 0.7902071563088513, 0.79049881235154396, 0.77561728395061713, 0.77715355805243447, 0.77169811320754722]\n",
    "\n",
    "plt.plot(traj_lens, baseline_test_accs[1:], '-mo', label=\"Baseline Model Test Accuracy\")\n",
    "plt.plot(traj_lens, test_accs, '-c^', label=\"Lstm Model Test Accuracy\")\n",
    "plt.legend(loc=\"upper right\")\n",
    "plt.xlabel('Trajectory Length')\n",
    "plt.ylabel('Accuracy')\n",
    "plt.xticks(range(2,11))\n",
    "plt.axis([1, 11, 0.7, 1.0])\n",
    "plt.show()"
   ]
  },
  {
   "cell_type": "code",
   "execution_count": null,
   "metadata": {
    "collapsed": true
   },
   "outputs": [],
   "source": []
  }
 ],
 "metadata": {
  "kernelspec": {
   "display_name": "Python 2",
   "language": "python",
   "name": "python2"
  },
  "language_info": {
   "codemirror_mode": {
    "name": "ipython",
    "version": 2
   },
   "file_extension": ".py",
   "mimetype": "text/x-python",
   "name": "python",
   "nbconvert_exporter": "python",
   "pygments_lexer": "ipython2",
   "version": "2.7.12"
  }
 },
 "nbformat": 4,
 "nbformat_minor": 1
}
