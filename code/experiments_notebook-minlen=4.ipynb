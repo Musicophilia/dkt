{
 "cells": [
  {
   "cell_type": "code",
   "execution_count": 1,
   "metadata": {
    "collapsed": false
   },
   "outputs": [],
   "source": [
    "%load_ext autoreload\n",
    "%autoreload 2\n",
    "%reload_ext autoreload\n",
    "from utils import *\n",
    "import numpy as np\n",
    "from sklearn.model_selection import train_test_split\n",
    "from tflearn.data_utils import to_categorical, pad_sequences\n",
    "from experiments import *\n",
    "from sklearn.metrics import accuracy_score"
   ]
  },
  {
   "cell_type": "code",
   "execution_count": 2,
   "metadata": {
    "collapsed": true
   },
   "outputs": [],
   "source": [
    "minlen = 4"
   ]
  },
  {
   "cell_type": "code",
   "execution_count": 3,
   "metadata": {
    "collapsed": false,
    "scrolled": true
   },
   "outputs": [
    {
     "name": "stdout",
     "output_type": "stream",
     "text": [
      "Loading data...\n",
      "Data loaded.\n"
     ]
    }
   ],
   "source": [
    "x, y = load_data_will_student_solve_next_problem(hoc_num=18, minlen=minlen)\n",
    "x_train, x_test, y_train, y_test = train_test_split(x, y, test_size=0.1, random_state=42)"
   ]
  },
  {
   "cell_type": "code",
   "execution_count": null,
   "metadata": {
    "collapsed": false
   },
   "outputs": [
    {
     "name": "stdout",
     "output_type": "stream",
     "text": [
      "New model created. Ready to be loaded. \n"
     ]
    }
   ],
   "source": [
    "model_id = \"predict_next_prob_binary_two_layer_minlen_{}\".format(minlen)\n",
    "n_timesteps = x_train.shape[1]\n",
    "n_hidden = 64\n",
    "n_inputdim = x_train.shape[2]\n",
    "n_classes = 2\n",
    "architecture = 'two_layer_lstm_predict_binary'\n",
    "check_model_exists_or_create_new(model_id, n_timesteps, n_inputdim, n_hidden, n_classes, architecture)"
   ]
  },
  {
   "cell_type": "code",
   "execution_count": null,
   "metadata": {
    "collapsed": false
   },
   "outputs": [
    {
     "name": "stdout",
     "output_type": "stream",
     "text": [
      "Training Step: 3200  | total loss: \u001b[1m\u001b[32m0.40941\u001b[0m\u001b[0m\n",
      "| Adam | epoch: 006 | loss: 0.40941 - acc: 0.8113 | val_loss: 0.42978 - val_acc: 0.7950 -- iter: 11840/38587\n",
      "Training Step: 3200  | total loss: \u001b[1m\u001b[32m0.40941\u001b[0m\u001b[0m\n",
      "| Adam | epoch: 006 | loss: 0.40941 - acc: 0.8113 | val_loss: 0.42978 - val_acc: 0.7950 -- iter: 11840/38587\n",
      "--\n"
     ]
    }
   ],
   "source": [
    "model = load_model(model_id, load_checkpoint=False, is_training=True)\n",
    "date_time_string = datetime.datetime.now().strftime(\"%m-%d-%Y_%H-%M-%S\")\n",
    "run_id = \"{}_{}\".format(model_id, date_time_string)\n",
    "model.fit(x_train, y_train, n_epoch=8, validation_set=0.1, show_metric=True, snapshot_step=100, run_id=run_id)"
   ]
  },
  {
   "cell_type": "code",
   "execution_count": null,
   "metadata": {
    "collapsed": false,
    "scrolled": true
   },
   "outputs": [],
   "source": [
    "pred_train =np.argmax(model.predict(x_train), axis=1)\n",
    "pred_test = np.argmax(model.predict(x_test), axis=1)\n",
    "train_acc = accuracy_score(pred_train, np.argmax(y_train, axis=1))\n",
    "test_acc = accuracy_score(pred_test,  np.argmax(y_test, axis=1))\n",
    "print (\"Train acc: {}\\t Test acc: {}\".format(train_acc, test_acc))"
   ]
  },
  {
   "cell_type": "code",
   "execution_count": null,
   "metadata": {
    "collapsed": true
   },
   "outputs": [],
   "source": []
  }
 ],
 "metadata": {
  "kernelspec": {
   "display_name": "Python 2",
   "language": "python",
   "name": "python2"
  },
  "language_info": {
   "codemirror_mode": {
    "name": "ipython",
    "version": 2
   },
   "file_extension": ".py",
   "mimetype": "text/x-python",
   "name": "python",
   "nbconvert_exporter": "python",
   "pygments_lexer": "ipython2",
   "version": "2.7.12"
  }
 },
 "nbformat": 4,
 "nbformat_minor": 0
}
