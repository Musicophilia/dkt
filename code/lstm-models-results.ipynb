{
 "cells": [
  {
   "cell_type": "code",
   "execution_count": 3,
   "metadata": {
    "collapsed": false
   },
   "outputs": [],
   "source": [
    "%load_ext autoreload\n",
    "%autoreload 2\n",
    "%reload_ext autoreload\n",
    "from experiments import *\n",
    "import numpy as np\n",
    "from sklearn.model_selection import train_test_split\n",
    "from tflearn.data_utils import to_categorical, pad_sequences\n",
    "from experiments import *\n",
    "from sklearn.metrics import accuracy_score\n",
    "import matplotlib as mpl\n",
    "import matplotlib.pyplot as plt\n",
    "from matplotlib import style\n",
    "style.use('ggplot')\n",
    "%matplotlib inline"
   ]
  },
  {
   "cell_type": "code",
   "execution_count": 12,
   "metadata": {
    "collapsed": true
   },
   "outputs": [
    {
     "name": "stderr",
     "output_type": "stream",
     "text": [
      "WARNING:tensorflow:tf.variable_op_scope(values, name, default_name) is deprecated, use tf.variable_scope(name, default_name, values)\n"
     ]
    },
    {
     "name": "stdout",
     "output_type": "stream",
     "text": [
      "Loading model...\n"
     ]
    },
    {
     "name": "stderr",
     "output_type": "stream",
     "text": [
      "WARNING:tensorflow:tf.variable_op_scope(values, name, default_name) is deprecated, use tf.variable_scope(name, default_name, values)\n",
      "WARNING:tensorflow:tf.variable_op_scope(values, name, default_name) is deprecated, use tf.variable_scope(name, default_name, values)\n"
     ]
    },
    {
     "name": "stdout",
     "output_type": "stream",
     "text": [
      "../tensorboard_logs/predict_next_prob_binary_two_layer_minlen_1/\n",
      "../checkpoints/predict_next_prob_binary_two_layer_minlen_1/\n",
      "../best_checkpoints/predict_next_prob_binary_two_layer_minlen_1/\n",
      "../checkpoints/predict_next_prob_binary_two_layer_minlen_1/-19312\n",
      "Checkpoint loaded.\n",
      "Model loaded.\n",
      "Loading data...\n",
      "Data loaded.\n"
     ]
    },
    {
     "name": "stderr",
     "output_type": "stream",
     "text": [
      "WARNING:tensorflow:tf.variable_op_scope(values, name, default_name) is deprecated, use tf.variable_scope(name, default_name, values)\n"
     ]
    },
    {
     "name": "stdout",
     "output_type": "stream",
     "text": [
      "Train acc: 0.923778782511\t Test acc: 0.920192963138\n",
      "Loading model...\n"
     ]
    },
    {
     "name": "stderr",
     "output_type": "stream",
     "text": [
      "WARNING:tensorflow:tf.variable_op_scope(values, name, default_name) is deprecated, use tf.variable_scope(name, default_name, values)\n",
      "WARNING:tensorflow:tf.variable_op_scope(values, name, default_name) is deprecated, use tf.variable_scope(name, default_name, values)\n"
     ]
    },
    {
     "name": "stdout",
     "output_type": "stream",
     "text": [
      "../tensorboard_logs/predict_next_prob_binary_two_layer_minlen_2/\n",
      "../checkpoints/predict_next_prob_binary_two_layer_minlen_2/\n",
      "../best_checkpoints/predict_next_prob_binary_two_layer_minlen_2/\n",
      "../checkpoints/predict_next_prob_binary_two_layer_minlen_2/-9616\n",
      "Checkpoint loaded.\n",
      "Model loaded.\n",
      "Loading data...\n",
      "Data loaded.\n"
     ]
    },
    {
     "name": "stderr",
     "output_type": "stream",
     "text": [
      "WARNING:tensorflow:tf.variable_op_scope(values, name, default_name) is deprecated, use tf.variable_scope(name, default_name, values)\n"
     ]
    },
    {
     "name": "stdout",
     "output_type": "stream",
     "text": [
      "Train acc: 0.872694935879\t Test acc: 0.86899747262\n",
      "Loading model...\n"
     ]
    },
    {
     "name": "stderr",
     "output_type": "stream",
     "text": [
      "WARNING:tensorflow:tf.variable_op_scope(values, name, default_name) is deprecated, use tf.variable_scope(name, default_name, values)\n",
      "WARNING:tensorflow:tf.variable_op_scope(values, name, default_name) is deprecated, use tf.variable_scope(name, default_name, values)\n"
     ]
    },
    {
     "name": "stdout",
     "output_type": "stream",
     "text": [
      "../tensorboard_logs/predict_next_prob_binary_two_layer_minlen_3/\n",
      "../checkpoints/predict_next_prob_binary_two_layer_minlen_3/\n",
      "../best_checkpoints/predict_next_prob_binary_two_layer_minlen_3/\n",
      "../checkpoints/predict_next_prob_binary_two_layer_minlen_3/-6448\n",
      "Checkpoint loaded.\n",
      "Model loaded.\n",
      "Loading data...\n",
      "Data loaded.\n"
     ]
    },
    {
     "name": "stderr",
     "output_type": "stream",
     "text": [
      "WARNING:tensorflow:tf.variable_op_scope(values, name, default_name) is deprecated, use tf.variable_scope(name, default_name, values)\n"
     ]
    },
    {
     "name": "stdout",
     "output_type": "stream",
     "text": [
      "Train acc: 0.837821799459\t Test acc: 0.82786241558\n",
      "Loading model...\n"
     ]
    },
    {
     "name": "stderr",
     "output_type": "stream",
     "text": [
      "WARNING:tensorflow:tf.variable_op_scope(values, name, default_name) is deprecated, use tf.variable_scope(name, default_name, values)\n",
      "WARNING:tensorflow:tf.variable_op_scope(values, name, default_name) is deprecated, use tf.variable_scope(name, default_name, values)\n"
     ]
    },
    {
     "name": "stdout",
     "output_type": "stream",
     "text": [
      "../tensorboard_logs/predict_next_prob_binary_two_layer_minlen_4/\n",
      "../checkpoints/predict_next_prob_binary_two_layer_minlen_4/\n",
      "../best_checkpoints/predict_next_prob_binary_two_layer_minlen_4/\n",
      "../checkpoints/predict_next_prob_binary_two_layer_minlen_4/-4824\n",
      "Checkpoint loaded.\n",
      "Model loaded.\n",
      "Loading data...\n",
      "Data loaded.\n"
     ]
    },
    {
     "name": "stderr",
     "output_type": "stream",
     "text": [
      "WARNING:tensorflow:tf.variable_op_scope(values, name, default_name) is deprecated, use tf.variable_scope(name, default_name, values)\n"
     ]
    },
    {
     "name": "stdout",
     "output_type": "stream",
     "text": [
      "Train acc: 0.812967930029\t Test acc: 0.803736356003\n",
      "Loading model...\n"
     ]
    },
    {
     "name": "stderr",
     "output_type": "stream",
     "text": [
      "WARNING:tensorflow:tf.variable_op_scope(values, name, default_name) is deprecated, use tf.variable_scope(name, default_name, values)\n",
      "WARNING:tensorflow:tf.variable_op_scope(values, name, default_name) is deprecated, use tf.variable_scope(name, default_name, values)\n"
     ]
    },
    {
     "name": "stdout",
     "output_type": "stream",
     "text": [
      "../tensorboard_logs/predict_next_prob_binary_two_layer_minlen_5/\n",
      "../checkpoints/predict_next_prob_binary_two_layer_minlen_5/\n",
      "../best_checkpoints/predict_next_prob_binary_two_layer_minlen_5/\n",
      "../checkpoints/predict_next_prob_binary_two_layer_minlen_5/-3816\n",
      "Checkpoint loaded.\n",
      "Model loaded.\n",
      "Loading data...\n",
      "Data loaded.\n",
      "Train acc: 0.789327748444\t Test acc: 0.775949031059\n"
     ]
    }
   ],
   "source": [
    "minlens = range(1,6)\n",
    "train_accs, test_accs = [], []\n",
    "for minlen in minlens:\n",
    "    model_id = \"predict_next_prob_binary_two_layer_minlen_{}\".format(minlen)\n",
    "    train_acc, test_acc = get_results_saved_model(model_id, minlen)\n",
    "    train_accs.append(train_acc)\n",
    "    test_accs.append(test_acc)"
   ]
  },
  {
   "cell_type": "code",
   "execution_count": 13,
   "metadata": {
    "collapsed": false,
    "scrolled": true
   },
   "outputs": [
    {
     "name": "stdout",
     "output_type": "stream",
     "text": [
      "[0.92377878251141976, 0.87269493587943459, 0.83782179945894053, 0.81296793002915457, 0.78932774844399867]\n"
     ]
    }
   ],
   "source": [
    "print train_accs"
   ]
  },
  {
   "cell_type": "code",
   "execution_count": 10,
   "metadata": {
    "collapsed": true
   },
   "outputs": [],
   "source": [
    "train_accs = [0.92377878251141976, 0.87269493587943459, 0.83782179945894053, 0.81296793002915457, 0.78932774844399867]"
   ]
  },
  {
   "cell_type": "code",
   "execution_count": 14,
   "metadata": {
    "collapsed": false
   },
   "outputs": [
    {
     "name": "stdout",
     "output_type": "stream",
     "text": [
      "[0.92019296313774845, 0.86899747262005056, 0.82786241558033613, 0.80373635600335858, 0.77594903105919832]\n"
     ]
    }
   ],
   "source": [
    "print test_accs"
   ]
  },
  {
   "cell_type": "code",
   "execution_count": 11,
   "metadata": {
    "collapsed": false
   },
   "outputs": [
    {
     "data": {
      "image/png": "[encoded data removed]",
      "text/plain": [
       "<matplotlib.figure.Figure at 0x11acd9bd0>"
      ]
     },
     "metadata": {},
     "output_type": "display_data"
    }
   ],
   "source": [
    "\n",
    "plt.plot(minlens, train_accs, 'bo', label=\"train accuracy\")\n",
    "plt.plot(minlens, test_accs, 'ro', label=\"test accuracy\")\n",
    "plt.legend(loc=\"upper right\")\n",
    "plt.xlabel('Minimum Trajectory Length')\n",
    "plt.ylabel('Accuracy')\n",
    "plt.axis([0, 6, 0.7, 1.0])\n",
    "plt.show()"
   ]
  },
  {
   "cell_type": "code",
   "execution_count": 9,
   "metadata": {
    "collapsed": false
   },
   "outputs": [
    {
     "data": {
      "image/png": "[encoded data removed]",
      "text/plain": [
       "<matplotlib.figure.Figure at 0x11ac0d490>"
      ]
     },
     "metadata": {},
     "output_type": "display_data"
    }
   ],
   "source": [
    "baseline_test_accs = [0.88710607729012636, 0.81455349620893003, 0.79236689178577036, 0.77896725440806047, 0.76745420759224847]\n",
    "plt.plot(minlens, baseline_test_accs, 'bo', label=\"baseline test accuracy\")\n",
    "plt.plot(minlens, test_accs, 'ro', label=\"test accuracy\")\n",
    "plt.legend(loc=\"upper right\")\n",
    "plt.xlabel('Minimum Trajectory Length')\n",
    "plt.ylabel('Accuracy')\n",
    "plt.axis([0, 6, 0.7, 1.0])\n",
    "plt.show()"
   ]
  },
  {
   "cell_type": "code",
   "execution_count": 17,
   "metadata": {
    "collapsed": false
   },
   "outputs": [
    {
     "name": "stderr",
     "output_type": "stream",
     "text": [
      "WARNING:tensorflow:tf.variable_op_scope(values, name, default_name) is deprecated, use tf.variable_scope(name, default_name, values)\n"
     ]
    },
    {
     "name": "stdout",
     "output_type": "stream",
     "text": [
      "Loading model...\n"
     ]
    },
    {
     "name": "stderr",
     "output_type": "stream",
     "text": [
      "WARNING:tensorflow:tf.variable_op_scope(values, name, default_name) is deprecated, use tf.variable_scope(name, default_name, values)\n"
     ]
    },
    {
     "name": "stdout",
     "output_type": "stream",
     "text": [
      "../tensorboard_logs/predict_next_prob_binary_two_layer_minlen_5/\n",
      "../checkpoints/predict_next_prob_binary_two_layer_minlen_5/\n",
      "../best_checkpoints/predict_next_prob_binary_two_layer_minlen_5/\n",
      "../checkpoints/predict_next_prob_binary_two_layer_minlen_5/-3816\n",
      "Checkpoint loaded.\n",
      "Model loaded.\n",
      "Loading data...\n",
      "Data loaded.\n"
     ]
    }
   ],
   "source": [
    "minlen = 3\n",
    "hidden_reps = None\n",
    "graph_to_use = tf.Graph()\n",
    "with graph_to_use.as_default():\n",
    "    hidden_rep_model = load_model(model_id, load_checkpoint=True, is_training=False, get_hidden_rep=True)\n",
    "    x, y = load_data_will_student_solve_next_problem(hoc_num=18, minlen=minlen)\n",
    "    hidden_reps = np.array(hidden_rep_model.predict(x))"
   ]
  },
  {
   "cell_type": "code",
   "execution_count": 18,
   "metadata": {
    "collapsed": false
   },
   "outputs": [
    {
     "name": "stdout",
     "output_type": "stream",
     "text": [
      "(63662, 32)\n"
     ]
    }
   ],
   "source": [
    "print hidden_reps.shape"
   ]
  },
  {
   "cell_type": "code",
   "execution_count": null,
   "metadata": {
    "collapsed": true
   },
   "outputs": [],
   "source": [
    "from sklearn.manifold import TSNE\n",
    "tsne_model = TSNE(n_components=2, random_state=0)\n",
    "np.set_printoptions(suppress=True)\n",
    "tsne = tsne_model.fit_transform(hidden_reps) "
   ]
  },
  {
   "cell_type": "code",
   "execution_count": null,
   "metadata": {
    "collapsed": true
   },
   "outputs": [],
   "source": [
    "plt.scatter(minlens, test_accs, 'r', label=\"test accuracy\")\n",
    "plt.show()"
   ]
  }
 ],
 "metadata": {
  "kernelspec": {
   "display_name": "Python 2",
   "language": "python",
   "name": "python2"
  },
  "language_info": {
   "codemirror_mode": {
    "name": "ipython",
    "version": 2
   },
   "file_extension": ".py",
   "mimetype": "text/x-python",
   "name": "python",
   "nbconvert_exporter": "python",
   "pygments_lexer": "ipython2",
   "version": "2.7.12"
  }
 },
 "nbformat": 4,
 "nbformat_minor": 1
}
