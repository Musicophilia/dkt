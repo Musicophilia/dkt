{
 "cells": [
  {
   "cell_type": "code",
   "execution_count": 1,
   "metadata": {
    "collapsed": false
   },
   "outputs": [],
   "source": [
    "%load_ext autoreload\n",
    "%autoreload 2\n",
    "%reload_ext autoreload\n",
    "from experiments import *\n",
    "import numpy as np\n",
    "from sklearn.model_selection import train_test_split\n",
    "from tflearn.data_utils import to_categorical, pad_sequences\n",
    "from experiments import *\n",
    "from sklearn.metrics import accuracy_score"
   ]
  },
  {
   "cell_type": "code",
   "execution_count": 3,
   "metadata": {
    "collapsed": false
   },
   "outputs": [
    {
     "name": "stderr",
     "output_type": "stream",
     "text": [
      "WARNING:tensorflow:tf.variable_op_scope(values, name, default_name) is deprecated, use tf.variable_scope(name, default_name, values)\n"
     ]
    },
    {
     "name": "stdout",
     "output_type": "stream",
     "text": [
      "Loading model...\n"
     ]
    },
    {
     "name": "stderr",
     "output_type": "stream",
     "text": [
      "WARNING:tensorflow:tf.variable_op_scope(values, name, default_name) is deprecated, use tf.variable_scope(name, default_name, values)\n",
      "WARNING:tensorflow:tf.variable_op_scope(values, name, default_name) is deprecated, use tf.variable_scope(name, default_name, values)\n"
     ]
    },
    {
     "name": "stdout",
     "output_type": "stream",
     "text": [
      "../tensorboard_logs/predict_next_prob_binary_two_layer_minlen_1/\n",
      "../checkpoints/predict_next_prob_binary_two_layer_minlen_1/\n",
      "../best_checkpoints/predict_next_prob_binary_two_layer_minlen_1/\n",
      "../checkpoints/predict_next_prob_binary_two_layer_minlen_1/-19312\n",
      "Checkpoint loaded.\n",
      "Model loaded.\n",
      "Loading data...\n",
      "Data loaded.\n",
      "Train acc: 0.923778782511\t Test acc: 0.920192963138\n"
     ]
    },
    {
     "data": {
      "text/plain": [
       "(0.92377878251141976, 0.92019296313774845)"
      ]
     },
     "execution_count": 3,
     "metadata": {},
     "output_type": "execute_result"
    }
   ],
   "source": [
    "minlen = 1\n",
    "model_id = \"predict_next_prob_binary_two_layer_minlen_{}\".format(minlen)\n",
    "get_results_saved_model(model_id, minlen)"
   ]
  },
  {
   "cell_type": "code",
   "execution_count": 2,
   "metadata": {
    "collapsed": false
   },
   "outputs": [
    {
     "name": "stderr",
     "output_type": "stream",
     "text": [
      "WARNING:tensorflow:tf.variable_op_scope(values, name, default_name) is deprecated, use tf.variable_scope(name, default_name, values)\n"
     ]
    },
    {
     "name": "stdout",
     "output_type": "stream",
     "text": [
      "Loading model...\n"
     ]
    },
    {
     "name": "stderr",
     "output_type": "stream",
     "text": [
      "WARNING:tensorflow:tf.variable_op_scope(values, name, default_name) is deprecated, use tf.variable_scope(name, default_name, values)\n",
      "WARNING:tensorflow:tf.variable_op_scope(values, name, default_name) is deprecated, use tf.variable_scope(name, default_name, values)\n"
     ]
    },
    {
     "name": "stdout",
     "output_type": "stream",
     "text": [
      "../tensorboard_logs/predict_next_prob_binary_two_layer_minlen_2/\n",
      "../checkpoints/predict_next_prob_binary_two_layer_minlen_2/\n",
      "../best_checkpoints/predict_next_prob_binary_two_layer_minlen_2/\n",
      "../checkpoints/predict_next_prob_binary_two_layer_minlen_2/-9616\n",
      "Checkpoint loaded.\n",
      "Model loaded.\n",
      "Loading data...\n",
      "Data loaded.\n",
      "Train acc: 0.872694935879\t Test acc: 0.86899747262\n"
     ]
    },
    {
     "data": {
      "text/plain": [
       "(0.87269493587943459, 0.86899747262005056)"
      ]
     },
     "execution_count": 2,
     "metadata": {},
     "output_type": "execute_result"
    }
   ],
   "source": [
    "minlen = 2\n",
    "model_id = \"predict_next_prob_binary_two_layer_minlen_{}\".format(minlen)\n",
    "get_results_saved_model(model_id, minlen)"
   ]
  },
  {
   "cell_type": "code",
   "execution_count": 2,
   "metadata": {
    "collapsed": false
   },
   "outputs": [
    {
     "name": "stderr",
     "output_type": "stream",
     "text": [
      "WARNING:tensorflow:tf.variable_op_scope(values, name, default_name) is deprecated, use tf.variable_scope(name, default_name, values)\n"
     ]
    },
    {
     "name": "stdout",
     "output_type": "stream",
     "text": [
      "Loading model...\n"
     ]
    },
    {
     "name": "stderr",
     "output_type": "stream",
     "text": [
      "WARNING:tensorflow:tf.variable_op_scope(values, name, default_name) is deprecated, use tf.variable_scope(name, default_name, values)\n",
      "WARNING:tensorflow:tf.variable_op_scope(values, name, default_name) is deprecated, use tf.variable_scope(name, default_name, values)\n"
     ]
    },
    {
     "name": "stdout",
     "output_type": "stream",
     "text": [
      "../tensorboard_logs/predict_next_prob_binary_two_layer_minlen_3/\n",
      "../checkpoints/predict_next_prob_binary_two_layer_minlen_3/\n",
      "../best_checkpoints/predict_next_prob_binary_two_layer_minlen_3/\n",
      "../checkpoints/predict_next_prob_binary_two_layer_minlen_3/-6448\n",
      "Checkpoint loaded.\n",
      "Model loaded.\n",
      "Loading data...\n",
      "Data loaded.\n",
      "Train acc: 0.837821799459\t Test acc: 0.82786241558\n"
     ]
    },
    {
     "data": {
      "text/plain": [
       "(0.83782179945894053, 0.82786241558033613)"
      ]
     },
     "execution_count": 2,
     "metadata": {},
     "output_type": "execute_result"
    }
   ],
   "source": [
    "minlen = 3\n",
    "model_id = \"predict_next_prob_binary_two_layer_minlen_{}\".format(minlen)\n",
    "get_results_saved_model(model_id, minlen)"
   ]
  },
  {
   "cell_type": "code",
   "execution_count": 3,
   "metadata": {
    "collapsed": false
   },
   "outputs": [
    {
     "name": "stderr",
     "output_type": "stream",
     "text": [
      "WARNING:tensorflow:tf.variable_op_scope(values, name, default_name) is deprecated, use tf.variable_scope(name, default_name, values)\n"
     ]
    },
    {
     "name": "stdout",
     "output_type": "stream",
     "text": [
      "Loading model...\n"
     ]
    },
    {
     "name": "stderr",
     "output_type": "stream",
     "text": [
      "WARNING:tensorflow:tf.variable_op_scope(values, name, default_name) is deprecated, use tf.variable_scope(name, default_name, values)\n",
      "WARNING:tensorflow:tf.variable_op_scope(values, name, default_name) is deprecated, use tf.variable_scope(name, default_name, values)\n"
     ]
    },
    {
     "name": "stdout",
     "output_type": "stream",
     "text": [
      "../tensorboard_logs/predict_next_prob_binary_two_layer_minlen_4/\n",
      "../checkpoints/predict_next_prob_binary_two_layer_minlen_4/\n",
      "../best_checkpoints/predict_next_prob_binary_two_layer_minlen_4/\n",
      "../checkpoints/predict_next_prob_binary_two_layer_minlen_4/-4824\n",
      "Checkpoint loaded.\n",
      "Model loaded.\n",
      "Loading data...\n",
      "Data loaded.\n",
      "Train acc: 0.812967930029\t Test acc: 0.803736356003\n"
     ]
    },
    {
     "data": {
      "text/plain": [
       "(0.81296793002915457, 0.80373635600335858)"
      ]
     },
     "execution_count": 3,
     "metadata": {},
     "output_type": "execute_result"
    }
   ],
   "source": [
    "minlen = 4\n",
    "model_id = \"predict_next_prob_binary_two_layer_minlen_{}\".format(minlen)\n",
    "get_results_saved_model(model_id, minlen)"
   ]
  },
  {
   "cell_type": "code",
   "execution_count": 2,
   "metadata": {
    "collapsed": false
   },
   "outputs": [
    {
     "name": "stderr",
     "output_type": "stream",
     "text": [
      "WARNING:tensorflow:tf.variable_op_scope(values, name, default_name) is deprecated, use tf.variable_scope(name, default_name, values)\n"
     ]
    },
    {
     "name": "stdout",
     "output_type": "stream",
     "text": [
      "Loading model...\n"
     ]
    },
    {
     "name": "stderr",
     "output_type": "stream",
     "text": [
      "WARNING:tensorflow:tf.variable_op_scope(values, name, default_name) is deprecated, use tf.variable_scope(name, default_name, values)\n",
      "WARNING:tensorflow:tf.variable_op_scope(values, name, default_name) is deprecated, use tf.variable_scope(name, default_name, values)\n"
     ]
    },
    {
     "name": "stdout",
     "output_type": "stream",
     "text": [
      "../tensorboard_logs/predict_next_prob_binary_two_layer_minlen_5/\n",
      "../checkpoints/predict_next_prob_binary_two_layer_minlen_5/\n",
      "../best_checkpoints/predict_next_prob_binary_two_layer_minlen_5/\n",
      "../checkpoints/predict_next_prob_binary_two_layer_minlen_5/-3816\n",
      "Checkpoint loaded.\n",
      "Model loaded.\n",
      "Loading data...\n",
      "Data loaded.\n",
      "Train acc: 0.789327748444\t Test acc: 0.775949031059\n"
     ]
    },
    {
     "data": {
      "text/plain": [
       "(0.78932774844399867, 0.77594903105919832)"
      ]
     },
     "execution_count": 2,
     "metadata": {},
     "output_type": "execute_result"
    }
   ],
   "source": [
    "minlen = 5\n",
    "model_id = \"predict_next_prob_binary_two_layer_minlen_{}\".format(minlen)\n",
    "get_results_saved_model(model_id, minlen)"
   ]
  },
  {
   "cell_type": "code",
   "execution_count": null,
   "metadata": {
    "collapsed": true
   },
   "outputs": [],
   "source": [
    "(0.92377878251141976, 0.92019296313774845)\n",
    "(0.87269493587943459, 0.86899747262005056)\n",
    "(0.83782179945894053, 0.82786241558033613)\n",
    "(0.81296793002915457, 0.80373635600335858)\n",
    "(0.78932774844399867, 0.77594903105919832)"
   ]
  },
  {
   "cell_type": "code",
   "execution_count": 7,
   "metadata": {
    "collapsed": true
   },
   "outputs": [],
   "source": [
    "train_accs = [0.92377878251141976, 0.87269493587943459, 0.83782179945894053, 0.81296793002915457,0.78932774844399867]\n",
    "test_accs = [0.92019296313774845, 0.86899747262005056, 0.82786241558033613, 0.80373635600335858, 0.77594903105919832]\n",
    "minlens = range(1,6)"
   ]
  },
  {
   "cell_type": "code",
   "execution_count": 5,
   "metadata": {
    "collapsed": true
   },
   "outputs": [],
   "source": [
    "import matplotlib as mpl\n",
    "import matplotlib.pyplot as plt\n",
    "from matplotlib import style\n",
    "style.use('ggplot')\n",
    "%matplotlib inline"
   ]
  },
  {
   "cell_type": "code",
   "execution_count": 12,
   "metadata": {
    "collapsed": false
   },
   "outputs": [
    {
     "name": "stderr",
     "output_type": "stream",
     "text": [
      "WARNING:tensorflow:tf.variable_op_scope(values, name, default_name) is deprecated, use tf.variable_scope(name, default_name, values)\n"
     ]
    },
    {
     "name": "stdout",
     "output_type": "stream",
     "text": [
      "Loading model...\n"
     ]
    },
    {
     "name": "stderr",
     "output_type": "stream",
     "text": [
      "WARNING:tensorflow:tf.variable_op_scope(values, name, default_name) is deprecated, use tf.variable_scope(name, default_name, values)\n",
      "WARNING:tensorflow:tf.variable_op_scope(values, name, default_name) is deprecated, use tf.variable_scope(name, default_name, values)\n"
     ]
    },
    {
     "name": "stdout",
     "output_type": "stream",
     "text": [
      "../tensorboard_logs/predict_next_prob_binary_two_layer_minlen_1/\n",
      "../checkpoints/predict_next_prob_binary_two_layer_minlen_1/\n",
      "../best_checkpoints/predict_next_prob_binary_two_layer_minlen_1/\n",
      "../checkpoints/predict_next_prob_binary_two_layer_minlen_1/-19312\n",
      "Checkpoint loaded.\n",
      "Model loaded.\n",
      "Loading data...\n",
      "Data loaded.\n"
     ]
    },
    {
     "name": "stderr",
     "output_type": "stream",
     "text": [
      "WARNING:tensorflow:tf.variable_op_scope(values, name, default_name) is deprecated, use tf.variable_scope(name, default_name, values)\n"
     ]
    },
    {
     "name": "stdout",
     "output_type": "stream",
     "text": [
      "Train acc: 0.923778782511\t Test acc: 0.920192963138\n",
      "Loading model...\n"
     ]
    },
    {
     "name": "stderr",
     "output_type": "stream",
     "text": [
      "WARNING:tensorflow:tf.variable_op_scope(values, name, default_name) is deprecated, use tf.variable_scope(name, default_name, values)\n",
      "WARNING:tensorflow:tf.variable_op_scope(values, name, default_name) is deprecated, use tf.variable_scope(name, default_name, values)\n"
     ]
    },
    {
     "name": "stdout",
     "output_type": "stream",
     "text": [
      "../tensorboard_logs/predict_next_prob_binary_two_layer_minlen_2/\n",
      "../checkpoints/predict_next_prob_binary_two_layer_minlen_2/\n",
      "../best_checkpoints/predict_next_prob_binary_two_layer_minlen_2/\n",
      "../checkpoints/predict_next_prob_binary_two_layer_minlen_2/-9616\n",
      "Checkpoint loaded.\n",
      "Model loaded.\n",
      "Loading data...\n",
      "Data loaded.\n"
     ]
    },
    {
     "name": "stderr",
     "output_type": "stream",
     "text": [
      "WARNING:tensorflow:tf.variable_op_scope(values, name, default_name) is deprecated, use tf.variable_scope(name, default_name, values)\n"
     ]
    },
    {
     "name": "stdout",
     "output_type": "stream",
     "text": [
      "Train acc: 0.872694935879\t Test acc: 0.86899747262\n",
      "Loading model...\n"
     ]
    },
    {
     "name": "stderr",
     "output_type": "stream",
     "text": [
      "WARNING:tensorflow:tf.variable_op_scope(values, name, default_name) is deprecated, use tf.variable_scope(name, default_name, values)\n",
      "WARNING:tensorflow:tf.variable_op_scope(values, name, default_name) is deprecated, use tf.variable_scope(name, default_name, values)\n"
     ]
    },
    {
     "name": "stdout",
     "output_type": "stream",
     "text": [
      "../tensorboard_logs/predict_next_prob_binary_two_layer_minlen_3/\n",
      "../checkpoints/predict_next_prob_binary_two_layer_minlen_3/\n",
      "../best_checkpoints/predict_next_prob_binary_two_layer_minlen_3/\n",
      "../checkpoints/predict_next_prob_binary_two_layer_minlen_3/-6448\n",
      "Checkpoint loaded.\n",
      "Model loaded.\n",
      "Loading data...\n",
      "Data loaded.\n"
     ]
    },
    {
     "name": "stderr",
     "output_type": "stream",
     "text": [
      "WARNING:tensorflow:tf.variable_op_scope(values, name, default_name) is deprecated, use tf.variable_scope(name, default_name, values)\n"
     ]
    },
    {
     "name": "stdout",
     "output_type": "stream",
     "text": [
      "Train acc: 0.837821799459\t Test acc: 0.82786241558\n",
      "Loading model...\n"
     ]
    },
    {
     "name": "stderr",
     "output_type": "stream",
     "text": [
      "WARNING:tensorflow:tf.variable_op_scope(values, name, default_name) is deprecated, use tf.variable_scope(name, default_name, values)\n",
      "WARNING:tensorflow:tf.variable_op_scope(values, name, default_name) is deprecated, use tf.variable_scope(name, default_name, values)\n"
     ]
    },
    {
     "name": "stdout",
     "output_type": "stream",
     "text": [
      "../tensorboard_logs/predict_next_prob_binary_two_layer_minlen_4/\n",
      "../checkpoints/predict_next_prob_binary_two_layer_minlen_4/\n",
      "../best_checkpoints/predict_next_prob_binary_two_layer_minlen_4/\n",
      "../checkpoints/predict_next_prob_binary_two_layer_minlen_4/-4824\n",
      "Checkpoint loaded.\n",
      "Model loaded.\n",
      "Loading data...\n",
      "Data loaded.\n"
     ]
    },
    {
     "name": "stderr",
     "output_type": "stream",
     "text": [
      "WARNING:tensorflow:tf.variable_op_scope(values, name, default_name) is deprecated, use tf.variable_scope(name, default_name, values)\n"
     ]
    },
    {
     "name": "stdout",
     "output_type": "stream",
     "text": [
      "Train acc: 0.812967930029\t Test acc: 0.803736356003\n",
      "Loading model...\n"
     ]
    },
    {
     "name": "stderr",
     "output_type": "stream",
     "text": [
      "WARNING:tensorflow:tf.variable_op_scope(values, name, default_name) is deprecated, use tf.variable_scope(name, default_name, values)\n",
      "WARNING:tensorflow:tf.variable_op_scope(values, name, default_name) is deprecated, use tf.variable_scope(name, default_name, values)\n"
     ]
    },
    {
     "name": "stdout",
     "output_type": "stream",
     "text": [
      "../tensorboard_logs/predict_next_prob_binary_two_layer_minlen_5/\n",
      "../checkpoints/predict_next_prob_binary_two_layer_minlen_5/\n",
      "../best_checkpoints/predict_next_prob_binary_two_layer_minlen_5/\n",
      "../checkpoints/predict_next_prob_binary_two_layer_minlen_5/-3816\n",
      "Checkpoint loaded.\n",
      "Model loaded.\n",
      "Loading data...\n",
      "Data loaded.\n",
      "Train acc: 0.789327748444\t Test acc: 0.775949031059\n"
     ]
    }
   ],
   "source": [
    "minlens = range(1,6)\n",
    "train_accs, test_accs = [], []\n",
    "for minlen in minlens:\n",
    "    model_id = \"predict_next_prob_binary_two_layer_minlen_{}\".format(minlen)\n",
    "    train_acc, test_acc = get_results_saved_model(model_id, minlen)\n",
    "    train_accs.append(train_acc)\n",
    "    test_accs.append(test_acc)"
   ]
  },
  {
   "cell_type": "code",
   "execution_count": 13,
   "metadata": {
    "collapsed": false
   },
   "outputs": [
    {
     "name": "stdout",
     "output_type": "stream",
     "text": [
      "[0.92377878251141976, 0.87269493587943459, 0.83782179945894053, 0.81296793002915457, 0.78932774844399867]\n"
     ]
    }
   ],
   "source": [
    "print train_accs"
   ]
  },
  {
   "cell_type": "code",
   "execution_count": 14,
   "metadata": {
    "collapsed": false
   },
   "outputs": [
    {
     "name": "stdout",
     "output_type": "stream",
     "text": [
      "[0.92019296313774845, 0.86899747262005056, 0.82786241558033613, 0.80373635600335858, 0.77594903105919832]\n"
     ]
    }
   ],
   "source": [
    "print test_accs"
   ]
  },
  {
   "cell_type": "code",
   "execution_count": 16,
   "metadata": {
    "collapsed": false
   },
   "outputs": [
    {
     "data": {
      "image/png": "[encoded data removed]",
      "text/plain": [
       "<matplotlib.figure.Figure at 0x12dcf5990>"
      ]
     },
     "metadata": {},
     "output_type": "display_data"
    }
   ],
   "source": [
    "\n",
    "plt.plot(minlens, train_accs, 'b', label=\"train accuracy\")\n",
    "plt.plot(minlens, test_accs, 'r', label=\"test accuracy\")\n",
    "plt.legend(loc=\"upper right\")\n",
    "plt.xlabel('Minimum Trajectory Length')\n",
    "plt.ylabel('Accuracy')\n",
    "plt.show()"
   ]
  },
  {
   "cell_type": "code",
   "execution_count": 15,
   "metadata": {
    "collapsed": false
   },
   "outputs": [
    {
     "data": {
      "image/png": "[encoded data removed]",
      "text/plain": [
       "<matplotlib.figure.Figure at 0x12d98e850>"
      ]
     },
     "metadata": {},
     "output_type": "display_data"
    }
   ],
   "source": [
    "baseline_test_accs = [0.88207225630538511, 0.79780960404380796, 0.74540599968588028, 0.69878253568429893, 0.68516060525617206]\n",
    "plt.plot(minlens, baseline_test_accs, 'b', label=\"baseline test accuracy\")\n",
    "plt.plot(minlens, test_accs, 'r', label=\"test accuracy\")\n",
    "plt.legend(loc=\"upper right\")\n",
    "plt.xlabel('Minimum Trajectory Length')\n",
    "plt.ylabel('Accuracy')\n",
    "plt.show()"
   ]
  }
 ],
 "metadata": {
  "kernelspec": {
   "display_name": "Python 2",
   "language": "python",
   "name": "python2"
  },
  "language_info": {
   "codemirror_mode": {
    "name": "ipython",
    "version": 2
   },
   "file_extension": ".py",
   "mimetype": "text/x-python",
   "name": "python",
   "nbconvert_exporter": "python",
   "pygments_lexer": "ipython2",
   "version": "2.7.12"
  }
 },
 "nbformat": 4,
 "nbformat_minor": 1
}
